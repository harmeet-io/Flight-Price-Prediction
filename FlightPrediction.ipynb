{
 "cells": [
  {
   "cell_type": "markdown",
   "id": "245186b8",
   "metadata": {},
   "source": [
    "## Flight Price Prediction(EDA + Feature Engineering)"
   ]
  },
  {
   "cell_type": "code",
   "execution_count": null,
   "id": "692f0d82",
   "metadata": {},
   "outputs": [],
   "source": [
    "#importing basics libraries\n",
    "import pandas as pd\n",
    "import numpy as np\n",
    "import matplotlib.pyplot as plt\n",
    "import seaborn as sns\n",
    "%matplotlib inline"
   ]
  },
  {
   "cell_type": "code",
   "execution_count": null,
   "id": "c938a072",
   "metadata": {},
   "outputs": [],
   "source": [
    "train_df=pd.read_excel('Data_Train.xlsx')\n",
    "train_df.head()"
   ]
  },
  {
   "cell_type": "code",
   "execution_count": null,
   "id": "f603ce57",
   "metadata": {},
   "outputs": [],
   "source": [
    "test_df=pd.read_excel('Test_set.xlsx')\n",
    "test_df.head()"
   ]
  },
  {
   "cell_type": "code",
   "execution_count": null,
   "id": "ba75708d",
   "metadata": {},
   "outputs": [],
   "source": [
    "final_df=train_df.append(test_df)\n",
    "final_df.head()"
   ]
  },
  {
   "cell_type": "code",
   "execution_count": null,
   "id": "4e964073",
   "metadata": {},
   "outputs": [],
   "source": [
    "final_df.tail()"
   ]
  },
  {
   "cell_type": "code",
   "execution_count": null,
   "id": "f566879e",
   "metadata": {},
   "outputs": [],
   "source": [
    "final_df.info()"
   ]
  },
  {
   "cell_type": "code",
   "execution_count": null,
   "id": "24e72a6d",
   "metadata": {},
   "outputs": [],
   "source": [
    "final_df['Date_of_Journey'].str.split('/').str[0]\n",
    "#date number is extracted in this way from the whole date"
   ]
  },
  {
   "cell_type": "code",
   "execution_count": null,
   "id": "cf7b9af7",
   "metadata": {},
   "outputs": [],
   "source": [
    "##Feature Engineering Process\n",
    "#splitting the date into day, month, year\n",
    "final_df['Date']=final_df['Date_of_Journey'].str.split('/').str[0]\n",
    "final_df['Month']=final_df['Date_of_Journey'].str.split('/').str[1]\n",
    "final_df['Year']=final_df['Date_of_Journey'].str.split('/').str[2]"
   ]
  },
  {
   "cell_type": "code",
   "execution_count": null,
   "id": "b0adb813",
   "metadata": {},
   "outputs": [],
   "source": [
    "final_df.head(2)"
   ]
  },
  {
   "cell_type": "code",
   "execution_count": null,
   "id": "7a2f72e8",
   "metadata": {},
   "outputs": [],
   "source": [
    "'''#using lambda function - no need to run\n",
    "df[\"Date\"]=df['Date_of_Journey'].apply(lambda x:x.split(\"/\")[0])\n",
    "df[\"Month\"]=df['Date_of_Journey'].apply(lambda x:x.split(\"/\")[1])\n",
    "df[\"Year\"]=df['Date_of_Journey'].apply(lambda x:x.split(\"/\")[2])\n",
    "'''"
   ]
  },
  {
   "cell_type": "code",
   "execution_count": null,
   "id": "81b84c6a",
   "metadata": {},
   "outputs": [],
   "source": [
    "#converting each of the new column into integer\n",
    "final_df['Date']=final_df['Date'].astype(int)\n",
    "final_df['Month']=final_df['Month'].astype(int)\n",
    "final_df['Year']=final_df['Year'].astype(int)"
   ]
  },
  {
   "cell_type": "code",
   "execution_count": null,
   "id": "6131f4e4",
   "metadata": {},
   "outputs": [],
   "source": [
    "final_df.info()"
   ]
  },
  {
   "cell_type": "code",
   "execution_count": null,
   "id": "db16e9a6",
   "metadata": {},
   "outputs": [],
   "source": [
    "#now we can drop date of journey\n",
    "final_df.drop('Date_of_Journey',axis=1,inplace=True)"
   ]
  },
  {
   "cell_type": "code",
   "execution_count": null,
   "id": "40ecd842",
   "metadata": {},
   "outputs": [],
   "source": [
    "final_df.head()"
   ]
  },
  {
   "cell_type": "code",
   "execution_count": null,
   "id": "b807018a",
   "metadata": {},
   "outputs": [],
   "source": [
    "#arrival time - I need only the time and not the date\n",
    "final_df['Arrival_Time'].str.split(' ').str[0]"
   ]
  },
  {
   "cell_type": "code",
   "execution_count": null,
   "id": "8ffe0181",
   "metadata": {},
   "outputs": [],
   "source": [
    "final_df['Arrival_Time']=final_df['Arrival_Time'].apply(lambda x : x.split(' ')[0])"
   ]
  },
  {
   "cell_type": "code",
   "execution_count": null,
   "id": "c1acbce6",
   "metadata": {},
   "outputs": [],
   "source": [
    "#splitting the arrival time into arrival hour and arrival min\n",
    "final_df['Arrival_hour']=final_df['Arrival_Time'].str.split(':').str[0]\n",
    "final_df['Arrival_min']=final_df['Arrival_Time'].str.split(':').str[1]"
   ]
  },
  {
   "cell_type": "code",
   "execution_count": null,
   "id": "cbb2b01a",
   "metadata": {},
   "outputs": [],
   "source": [
    "final_df.head()"
   ]
  },
  {
   "cell_type": "code",
   "execution_count": null,
   "id": "6ee0626d",
   "metadata": {},
   "outputs": [],
   "source": [
    "final_df['Arrival_hour']=final_df['Arrival_hour'].astype(int)\n",
    "final_df['Arrival_min']=final_df['Arrival_min'].astype(int)"
   ]
  },
  {
   "cell_type": "code",
   "execution_count": null,
   "id": "76926dbc",
   "metadata": {},
   "outputs": [],
   "source": [
    "#now we can remove the arrival time column\n",
    "final_df.drop('Arrival_Time',axis=1,inplace=True)"
   ]
  },
  {
   "cell_type": "code",
   "execution_count": null,
   "id": "5efda504",
   "metadata": {},
   "outputs": [],
   "source": [
    "final_df.head()"
   ]
  },
  {
   "cell_type": "code",
   "execution_count": null,
   "id": "cf061812",
   "metadata": {},
   "outputs": [],
   "source": [
    "#the same operations for departure time as was for arrival time\n",
    "final_df['Dept_hour']=final_df['Dep_Time'].str.split(':').str[0]\n",
    "final_df['Dept_min']=final_df['Dep_Time'].str.split(':').str[1]\n",
    "final_df['Dept_hour']=final_df['Dept_hour'].astype(int)\n",
    "final_df['Dept_min']=final_df['Dept_min'].astype(int)\n",
    "final_df.drop('Dep_Time',axis=1,inplace=True)"
   ]
  },
  {
   "cell_type": "code",
   "execution_count": null,
   "id": "6a1f0713",
   "metadata": {},
   "outputs": [],
   "source": [
    "final_df.info()"
   ]
  },
  {
   "cell_type": "code",
   "execution_count": null,
   "id": "22cd21e3",
   "metadata": {},
   "outputs": [],
   "source": [
    "#total unique stops\n",
    "final_df['Total_Stops'].unique()"
   ]
  },
  {
   "cell_type": "code",
   "execution_count": null,
   "id": "86f34138",
   "metadata": {},
   "outputs": [],
   "source": [
    "final_df['Total_Stops']=final_df['Total_Stops'].map({'non-stop':0,'1 stop':1,'2 stops':2,'3 stops':3,'4 stops':4,'nan':1})"
   ]
  },
  {
   "cell_type": "code",
   "execution_count": null,
   "id": "2ff8635b",
   "metadata": {},
   "outputs": [],
   "source": [
    "final_df[final_df['Total_Stops'].isnull()]"
   ]
  },
  {
   "cell_type": "code",
   "execution_count": null,
   "id": "ecc8a9e7",
   "metadata": {},
   "outputs": [],
   "source": [
    "#route - drop it now\n",
    "final_df.drop('Route',axis=1,inplace=True)"
   ]
  },
  {
   "cell_type": "code",
   "execution_count": null,
   "id": "49986359",
   "metadata": {},
   "outputs": [],
   "source": [
    "final_df.head()"
   ]
  },
  {
   "cell_type": "code",
   "execution_count": null,
   "id": "f9415330",
   "metadata": {},
   "outputs": [],
   "source": [
    "final_df['Additional_Info'].unique()"
   ]
  },
  {
   "cell_type": "code",
   "execution_count": null,
   "id": "bfb3e063",
   "metadata": {},
   "outputs": [],
   "source": [
    "final_df.info()"
   ]
  },
  {
   "cell_type": "code",
   "execution_count": null,
   "id": "ca419107",
   "metadata": {},
   "outputs": [],
   "source": [
    "#duration\n",
    "final_df['duration_hour']=final_df['Duration'].str.split(' ').str[0].str.split('h').str[0]"
   ]
  },
  {
   "cell_type": "code",
   "execution_count": null,
   "id": "6d92164b",
   "metadata": {},
   "outputs": [],
   "source": [
    "#in duration there are 5m values - not possible\n",
    "final_df[final_df['duration_hour']=='5m']"
   ]
  },
  {
   "cell_type": "code",
   "execution_count": null,
   "id": "2e8127b4",
   "metadata": {},
   "outputs": [],
   "source": [
    "#dropping the above two datapoints\n",
    "final_df.drop(6474,axis=0,inplace=True)\n",
    "final_df.drop(2660,axis=0,inplace=True)"
   ]
  },
  {
   "cell_type": "code",
   "execution_count": null,
   "id": "afab3b3d",
   "metadata": {},
   "outputs": [],
   "source": [
    "final_df['duration_hour']=final_df['duration_hour'].astype('int')"
   ]
  },
  {
   "cell_type": "code",
   "execution_count": null,
   "id": "ff9a6d7b",
   "metadata": {},
   "outputs": [],
   "source": [
    "#now we can drop the duration column\n",
    "final_df.drop('Duration',axis=1,inplace=True)"
   ]
  },
  {
   "cell_type": "code",
   "execution_count": null,
   "id": "3647a360",
   "metadata": {},
   "outputs": [],
   "source": [
    "final_df.head()"
   ]
  },
  {
   "cell_type": "code",
   "execution_count": null,
   "id": "75774e61",
   "metadata": {},
   "outputs": [],
   "source": [
    "final_df['Airline'].unique()\n",
    "#label encoding for them- too many categories\n",
    "#similar for source, destination, additional_info\n",
    "#dont use one hot encoding from dummies and rather use one hot encoder from sklearn.preprocessing import OneHotEncoder"
   ]
  },
  {
   "cell_type": "code",
   "execution_count": null,
   "id": "273c3c01",
   "metadata": {},
   "outputs": [],
   "source": [
    "from sklearn.preprocessing import LabelEncoder\n",
    "labelencoder=LabelEncoder()"
   ]
  },
  {
   "cell_type": "code",
   "execution_count": null,
   "id": "50d72bff",
   "metadata": {},
   "outputs": [],
   "source": [
    "final_df['Airline']=labelencoder.fit_transform(final_df['Airline'])\n",
    "final_df['Source']=labelencoder.fit_transform(final_df['Source'])\n",
    "final_df['Destination']=labelencoder.fit_transform(final_df['Destination'])\n",
    "final_df['Additional_Info']=labelencoder.fit_transform(final_df['Additional_Info'])"
   ]
  },
  {
   "cell_type": "code",
   "execution_count": null,
   "id": "36e20b13",
   "metadata": {},
   "outputs": [],
   "source": [
    "final_df.shape"
   ]
  },
  {
   "cell_type": "code",
   "execution_count": null,
   "id": "9f87eef8",
   "metadata": {},
   "outputs": [],
   "source": [
    "final_df.head(2)"
   ]
  },
  {
   "cell_type": "code",
   "execution_count": null,
   "id": "9475cc5b",
   "metadata": {},
   "outputs": [],
   "source": [
    "final_df[['Airline']]"
   ]
  },
  {
   "cell_type": "code",
   "execution_count": null,
   "id": "5a857a42",
   "metadata": {},
   "outputs": [],
   "source": [
    "'''from sklearn.preprocessing import OneHotEncoder\n",
    "ohe = OneHotEncoder()\n",
    "final_df['Airline'] = ohe.fit_transform(final_df['Airline'])\n",
    "'''#in this way any of the above variable can be converted to OHE"
   ]
  },
  {
   "cell_type": "code",
   "execution_count": null,
   "id": "c9a1342c",
   "metadata": {},
   "outputs": [],
   "source": [
    "\n",
    "ohe.fit_transform(np.array(final_df['Airline']).reshape(-1,1))\n"
   ]
  },
  {
   "cell_type": "code",
   "execution_count": null,
   "id": "737a0945",
   "metadata": {},
   "outputs": [],
   "source": [
    "final_df.head()"
   ]
  },
  {
   "cell_type": "code",
   "execution_count": null,
   "id": "711ada4b",
   "metadata": {},
   "outputs": [],
   "source": [
    "final_df.info()"
   ]
  },
  {
   "cell_type": "code",
   "execution_count": null,
   "id": "d3fba478",
   "metadata": {},
   "outputs": [],
   "source": [
    "#using dummies\n",
    "pd.get_dummies(final_df,columns=[\"Airline\", \"Source\", \"Destination\"] ,drop_first = True)"
   ]
  },
  {
   "cell_type": "code",
   "execution_count": null,
   "id": "2e7f6628",
   "metadata": {},
   "outputs": [],
   "source": []
  }
 ],
 "metadata": {
  "kernelspec": {
   "display_name": "Python 3 (ipykernel)",
   "language": "python",
   "name": "python3"
  },
  "language_info": {
   "codemirror_mode": {
    "name": "ipython",
    "version": 3
   },
   "file_extension": ".py",
   "mimetype": "text/x-python",
   "name": "python",
   "nbconvert_exporter": "python",
   "pygments_lexer": "ipython3",
   "version": "3.10.9"
  }
 },
 "nbformat": 4,
 "nbformat_minor": 5
}
